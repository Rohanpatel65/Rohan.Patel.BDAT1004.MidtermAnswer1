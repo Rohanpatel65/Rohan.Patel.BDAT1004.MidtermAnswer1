{
 "cells": [
  {
   "cell_type": "markdown",
   "id": "06303a26-a21b-4626-90a6-24b29430a20e",
   "metadata": {},
   "source": [
    "# Question 1\n",
    "<b>__int()__: Constructor that takes as input a pair of Point objects that represent the ends points of the line segment<b>\n",
    "\n",
    "<b>Length():: returns the length if the segment <b>\n",
    "\n",
    "<b>Slope() returns the slope of the segment of none if the slope is unbounded <b>"
   ]
  },
  {
   "cell_type": "code",
   "execution_count": 2,
   "id": "37d20732-3c31-4a9f-abb0-f52b106adecc",
   "metadata": {},
   "outputs": [
    {
     "name": "stdout",
     "output_type": "stream",
     "text": [
      "length of the segment : 5.0\n",
      "slope of the segment : 0.75\n"
     ]
    }
   ],
   "source": [
    "import math\n",
    "\n",
    "class Point:\n",
    "    def __init__(self, x=0, y=0):\n",
    "        self.x = x\n",
    "        self.y = y\n",
    "\n",
    "class Segment:\n",
    "    def __init__(self, point_1, point_2):\n",
    "        self.point_1 = point_1\n",
    "        self.point_2 = point_2\n",
    "        \n",
    "    def length(self):\n",
    "        return math.sqrt((self.point_2.x - self.point_1.x)**2 + (self.point_2.y - self.point_1.y)**2)\n",
    "    \n",
    "    def slope(self):\n",
    "        if self.point_2.x - self.point_1.x == 0:\n",
    "            return None  \n",
    "        else:\n",
    "            return (self.point_2.y - self.point_1.x) / (self.point_2.x - self.point_1.y)\n",
    "\n",
    "\n",
    "\n",
    "p_1 = Point(3, 4)\n",
    "p_2 = Point()   # that means x and y = 0 for p_2\n",
    "s = Segment(p_1, p_2)\n",
    "print(f\"length of the segment : {s.length()}\" )  \n",
    "print(f\"slope of the segment : {s.slope()}\" )  \n",
    "\n"
   ]
  },
  {
   "cell_type": "code",
   "execution_count": null,
   "id": "ba662406-844a-4b74-9a0b-86b783fe05f5",
   "metadata": {},
   "outputs": [],
   "source": []
  }
 ],
 "metadata": {
  "kernelspec": {
   "display_name": "Python 3 (ipykernel)",
   "language": "python",
   "name": "python3"
  },
  "language_info": {
   "codemirror_mode": {
    "name": "ipython",
    "version": 3
   },
   "file_extension": ".py",
   "mimetype": "text/x-python",
   "name": "python",
   "nbconvert_exporter": "python",
   "pygments_lexer": "ipython3",
   "version": "3.12.3"
  }
 },
 "nbformat": 4,
 "nbformat_minor": 5
}
